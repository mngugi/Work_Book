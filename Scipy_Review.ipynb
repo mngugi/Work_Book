{
  "nbformat": 4,
  "nbformat_minor": 0,
  "metadata": {
    "colab": {
      "provenance": [],
      "authorship_tag": "ABX9TyOwoh7KKYnGi5/TXX9wtFW2",
      "include_colab_link": true
    },
    "kernelspec": {
      "name": "python3",
      "display_name": "Python 3"
    },
    "language_info": {
      "name": "python"
    }
  },
  "cells": [
    {
      "cell_type": "markdown",
      "metadata": {
        "id": "view-in-github",
        "colab_type": "text"
      },
      "source": [
        "<a href=\"https://colab.research.google.com/github/mngugi/Work_Book_Projects/blob/main/Scipy_Review.ipynb\" target=\"_parent\"><img src=\"https://colab.research.google.com/assets/colab-badge.svg\" alt=\"Open In Colab\"/></a>"
      ]
    },
    {
      "cell_type": "code",
      "execution_count": 3,
      "metadata": {
        "colab": {
          "base_uri": "https://localhost:8080/"
        },
        "id": "_XgZDOTAxH2Z",
        "outputId": "ee893ca5-b642-46b6-dc24-14adf14c96c6"
      },
      "outputs": [
        {
          "output_type": "stream",
          "name": "stdout",
          "text": [
            "\n",
            "- SciPy is a scientific computation library that uses NumPy underneath.\n",
            "- SciPy stands for Scientific Python.\n",
            "\n",
            "1.11.4\n"
          ]
        }
      ],
      "source": [
        "p = '''\n",
        "- SciPy is a scientific computation library that uses NumPy underneath.\n",
        "- SciPy stands for Scientific Python.\n",
        "'''\n",
        "print(p)\n",
        "\n",
        "import scipy\n",
        "\n",
        "print(scipy.__version__)"
      ]
    }
  ]
}