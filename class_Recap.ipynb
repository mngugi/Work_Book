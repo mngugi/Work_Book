{
  "nbformat": 4,
  "nbformat_minor": 0,
  "metadata": {
    "colab": {
      "provenance": [],
      "authorship_tag": "ABX9TyPtZFvaOQA7OkdSQHxZalcV",
      "include_colab_link": true
    },
    "kernelspec": {
      "name": "python3",
      "display_name": "Python 3"
    },
    "language_info": {
      "name": "python"
    }
  },
  "cells": [
    {
      "cell_type": "markdown",
      "metadata": {
        "id": "view-in-github",
        "colab_type": "text"
      },
      "source": [
        "<a href=\"https://colab.research.google.com/github/mngugi/Work_Book_Projects/blob/main/class_Recap.ipynb\" target=\"_parent\"><img src=\"https://colab.research.google.com/assets/colab-badge.svg\" alt=\"Open In Colab\"/></a>"
      ]
    },
    {
      "cell_type": "code",
      "execution_count": 2,
      "metadata": {
        "colab": {
          "base_uri": "https://localhost:8080/"
        },
        "id": "V-Mikvbvty3H",
        "outputId": "9e050a10-1f14-4fbc-e6be-9e8880a32d2c"
      },
      "outputs": [
        {
          "output_type": "stream",
          "name": "stdout",
          "text": [
            "[2, 4]\n"
          ]
        }
      ],
      "source": [
        "class CustomList:\n",
        "  def __init__(self, *args):\n",
        "    self._list = list(args)\n",
        "\n",
        "  def __getitem__(self, index):\n",
        "    if isinstance(index, slice):\n",
        "      return self._list[index.start:index.stop:index.step]\n",
        "\n",
        "    if index < 0:\n",
        "      raise ValueError(\"Negative indexing is not support.\")\n",
        "\n",
        "    try:\n",
        "      return self._list[index]\n",
        "    except IndexError:\n",
        "      return \"Index out of range\"\n",
        "\n",
        "  def append(self, value):\n",
        "    self._list = self._list + [value * 2]\n",
        "\n",
        "\n",
        "\n",
        "my_list = CustomList(1,2,3,4,5)\n",
        "my_list.append(6)\n",
        "result = my_list[1:5:2]\n",
        "\n",
        "\n",
        "print(result)\n"
      ]
    }
  ]
}