{
  "cells": [
    {
      "cell_type": "markdown",
      "metadata": {
        "colab_type": "text",
        "id": "view-in-github"
      },
      "source": [
        "<a href=\"https://colab.research.google.com/github/mngugi/Work_Book_Projects/blob/main/class_Recap.ipynb\" target=\"_parent\"><img src=\"https://colab.research.google.com/assets/colab-badge.svg\" alt=\"Open In Colab\"/></a>"
      ]
    },
    {
      "cell_type": "code",
      "execution_count": 1,
      "metadata": {
        "colab": {
          "base_uri": "https://localhost:8080/"
        },
        "id": "V-Mikvbvty3H",
        "outputId": "9e050a10-1f14-4fbc-e6be-9e8880a32d2c"
      },
      "outputs": [
        {
          "name": "stdout",
          "output_type": "stream",
          "text": [
            "[2, 4]\n"
          ]
        }
      ],
      "source": [
        "class CustomList:\n",
        "  def __init__(self, *args):\n",
        "    self._list = list(args)\n",
        "\n",
        "  def __getitem__(self, index):\n",
        "    if isinstance(index, slice):\n",
        "      return self._list[index.start:index.stop:index.step]\n",
        "\n",
        "    if index < 0:\n",
        "      raise ValueError(\"Negative indexing is not support.\")\n",
        "\n",
        "    try:\n",
        "      return self._list[index]\n",
        "    except IndexError:\n",
        "      return \"Index out of range\"\n",
        "\n",
        "  def append(self, value):\n",
        "    self._list = self._list + [value * 2]\n",
        "\n",
        "\n",
        "\n",
        "my_list = CustomList(1,2,3,4,5)\n",
        "my_list.append(6)\n",
        "result = my_list[1:5:2]\n",
        "\n",
        "\n",
        "print(result)\n"
      ]
    }
  ],
  "metadata": {
    "colab": {
      "authorship_tag": "ABX9TyPtZFvaOQA7OkdSQHxZalcV",
      "include_colab_link": true,
      "provenance": []
    },
    "kernelspec": {
      "display_name": "Python 3",
      "name": "python3"
    },
    "language_info": {
      "codemirror_mode": {
        "name": "ipython",
        "version": 3
      },
      "file_extension": ".py",
      "mimetype": "text/x-python",
      "name": "python",
      "nbconvert_exporter": "python",
      "pygments_lexer": "ipython3",
      "version": "3.10.12"
    }
  },
  "nbformat": 4,
  "nbformat_minor": 0
}
