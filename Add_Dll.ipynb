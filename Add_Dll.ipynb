{
 "cells": [
  {
   "cell_type": "code",
   "execution_count": 2,
   "id": "b89a347e-098b-4353-9ab3-dd7fff9feac8",
   "metadata": {},
   "outputs": [
    {
     "ename": "AttributeError",
     "evalue": "type object 'c_int' has no attribute 'c_int'",
     "output_type": "error",
     "traceback": [
      "\u001b[0;31m---------------------------------------------------------------------------\u001b[0m",
      "\u001b[0;31mAttributeError\u001b[0m                            Traceback (most recent call last)",
      "Cell \u001b[0;32mIn[2], line 8\u001b[0m\n\u001b[1;32m      4\u001b[0m     \u001b[38;5;28;01mreturn\u001b[39;00m a\u001b[38;5;241m+\u001b[39mb\n\u001b[1;32m      6\u001b[0m dll \u001b[38;5;241m=\u001b[39m CDLL(\u001b[38;5;28;01mNone\u001b[39;00m)\n\u001b[0;32m----> 8\u001b[0m dll\u001b[38;5;241m.\u001b[39madd_number\u001b[38;5;241m.\u001b[39margtypes \u001b[38;5;241m=\u001b[39m [\u001b[43mc_int\u001b[49m\u001b[38;5;241;43m.\u001b[39;49m\u001b[43m \u001b[49m\u001b[43mc_int\u001b[49m]\n\u001b[1;32m      9\u001b[0m dll\u001b[38;5;241m.\u001b[39madd_number\u001b[38;5;241m.\u001b[39mrestype \u001b[38;5;241m=\u001b[39m c_int\n",
      "\u001b[0;31mAttributeError\u001b[0m: type object 'c_int' has no attribute 'c_int'"
     ]
    }
   ],
   "source": [
    "from ctypes import*\n",
    "\n",
    "def add_number(a, b):\n",
    "    return a+b\n",
    "\n",
    "dll = CDLL(None)\n",
    "\n",
    "dll.add_number.argtypes = [c_int. c_int]\n",
    "dll.add_number.restype = c_int\n",
    "\n"
   ]
  },
  {
   "cell_type": "code",
   "execution_count": null,
   "id": "9fcb298a-0918-49db-8bcb-9a2327cecc23",
   "metadata": {},
   "outputs": [],
   "source": []
  }
 ],
 "metadata": {
  "kernelspec": {
   "display_name": "Python 3 (ipykernel)",
   "language": "python",
   "name": "python3"
  },
  "language_info": {
   "codemirror_mode": {
    "name": "ipython",
    "version": 3
   },
   "file_extension": ".py",
   "mimetype": "text/x-python",
   "name": "python",
   "nbconvert_exporter": "python",
   "pygments_lexer": "ipython3",
   "version": "3.12.1"
  }
 },
 "nbformat": 4,
 "nbformat_minor": 5
}
