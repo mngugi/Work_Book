{
  "nbformat": 4,
  "nbformat_minor": 0,
  "metadata": {
    "colab": {
      "provenance": [],
      "authorship_tag": "ABX9TyO2jLE04WUDyphfHa2oSR3a",
      "include_colab_link": true
    },
    "kernelspec": {
      "name": "python3",
      "display_name": "Python 3"
    },
    "language_info": {
      "name": "python"
    }
  },
  "cells": [
    {
      "cell_type": "markdown",
      "metadata": {
        "id": "view-in-github",
        "colab_type": "text"
      },
      "source": [
        "<a href=\"https://colab.research.google.com/github/mngugi/Work_Book_Projects/blob/main/inheritance_classes.ipynb\" target=\"_parent\"><img src=\"https://colab.research.google.com/assets/colab-badge.svg\" alt=\"Open In Colab\"/></a>"
      ]
    },
    {
      "cell_type": "code",
      "execution_count": 2,
      "metadata": {
        "id": "ggxVCZrHBP5X"
      },
      "outputs": [],
      "source": [
        "class vehicles:\n",
        "  def __init__(self, Manual, Automatic, Hybrid, Electric):\n",
        "    self.Manual = Manual\n",
        "    self.Automatic = Automatic\n",
        "    self.Hybrid = Hybrid\n",
        "    self.Electric = Electric\n",
        "\n"
      ]
    }
  ]
}