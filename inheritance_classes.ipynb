{
  "nbformat": 4,
  "nbformat_minor": 0,
  "metadata": {
    "colab": {
      "provenance": [],
      "authorship_tag": "ABX9TyOf5bXwAkzASKqWZhVNydaZ",
      "include_colab_link": true
    },
    "kernelspec": {
      "name": "python3",
      "display_name": "Python 3"
    },
    "language_info": {
      "name": "python"
    }
  },
  "cells": [
    {
      "cell_type": "markdown",
      "metadata": {
        "id": "view-in-github",
        "colab_type": "text"
      },
      "source": [
        "<a href=\"https://colab.research.google.com/github/mngugi/Work_Book_Projects/blob/main/inheritance_classes.ipynb\" target=\"_parent\"><img src=\"https://colab.research.google.com/assets/colab-badge.svg\" alt=\"Open In Colab\"/></a>"
      ]
    },
    {
      "cell_type": "code",
      "execution_count": 21,
      "metadata": {
        "id": "ggxVCZrHBP5X",
        "colab": {
          "base_uri": "https://localhost:8080/"
        },
        "outputId": "8a62f812-1679-4ce3-8066-7f180de230e5"
      },
      "outputs": [
        {
          "output_type": "stream",
          "name": "stdout",
          "text": [
            " Manual: Ford\n",
            " Automatic: Toyota\n",
            " Hybrid: Honda\n",
            " Electronic: Tesla\n"
          ]
        }
      ],
      "source": [
        "class vehicles:\n",
        "\n",
        "  def __init__(self, Manual, Automatic, Hybrid, Electric):\n",
        "    self.Manual = Manual\n",
        "    self.Automatic = Automatic\n",
        "    self.Hybrid = Hybrid\n",
        "    self.Electric = Electric\n",
        "\n",
        "  # create a method\n",
        "  def vehicles_models(self):\n",
        "    print(self.Manual,self.Automatic, self.Hybrid, self.Electric)\n",
        "\n",
        "\n",
        "\n",
        "v = vehicles(\" Manual: Ford\\n\", \"Automatic: Toyota\\n\", \"Hybrid: Honda\\n\", \"Electronic: Tesla\")\n",
        "v.vehicles_models()\n",
        "\n",
        "\n",
        ""
      ]
    },
    {
      "cell_type": "code",
      "source": [
        "class Vehicles:\n",
        "    def __init__(self, manual=None, automatic=None, hybrid=None, electric=None):\n",
        "        self.manual = manual\n",
        "        self.automatic = automatic\n",
        "        self.hybrid = hybrid\n",
        "        self.electric = electric\n",
        "\n",
        "    # create a method\n",
        "    def vehicles_models(self):\n",
        "        print(f\"Manual: {self.manual}\\nAutomatic: {self.automatic}\\nHybrid: {self.hybrid}\\nElectronic: {self.electric}\")\n",
        "\n",
        "\n",
        "v = Vehicles(\" Manual: Ford\\n\", \"Automatic: Toyota\\n\", \"Hybrid: Honda\\n\", \"Electronic: Tesla\")\n",
        "v.vehicles_models()\n",
        "\n"
      ],
      "metadata": {
        "colab": {
          "base_uri": "https://localhost:8080/"
        },
        "id": "DJm3so-1JlrU",
        "outputId": "a52c5cc0-938b-4845-c7d1-7bf579dd55f1"
      },
      "execution_count": 23,
      "outputs": [
        {
          "output_type": "stream",
          "name": "stdout",
          "text": [
            "Manual:  Manual: Ford\n",
            "\n",
            "Automatic: Automatic: Toyota\n",
            "\n",
            "Hybrid: Hybrid: Honda\n",
            "\n",
            "Electronic: Electronic: Tesla\n"
          ]
        }
      ]
    }
  ]
}