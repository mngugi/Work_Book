{
  "nbformat": 4,
  "nbformat_minor": 0,
  "metadata": {
    "colab": {
      "provenance": [],
      "authorship_tag": "ABX9TyNIo7vcOdeK2gsM520EIbI9",
      "include_colab_link": true
    },
    "kernelspec": {
      "name": "python3",
      "display_name": "Python 3"
    },
    "language_info": {
      "name": "python"
    }
  },
  "cells": [
    {
      "cell_type": "markdown",
      "metadata": {
        "id": "view-in-github",
        "colab_type": "text"
      },
      "source": [
        "<a href=\"https://colab.research.google.com/github/mngugi/Work_Book_Projects/blob/main/Sub_string.ipynb\" target=\"_parent\"><img src=\"https://colab.research.google.com/assets/colab-badge.svg\" alt=\"Open In Colab\"/></a>"
      ]
    },
    {
      "cell_type": "code",
      "execution_count": 1,
      "metadata": {
        "colab": {
          "base_uri": "https://localhost:8080/"
        },
        "id": "dlIf7lDPXm3e",
        "outputId": "6fe24898-12b9-4476-c32e-296ccc80d39f"
      },
      "outputs": [
        {
          "output_type": "execute_result",
          "data": {
            "text/plain": [
              "15"
            ]
          },
          "metadata": {},
          "execution_count": 1
        }
      ],
      "source": [
        "# finding the index of a word in the substring\n",
        "sentence = \"Ivory Coast is located at the West Coast!.\"\n",
        "\n",
        "sentence.find(\"located\")"
      ]
    },
    {
      "cell_type": "code",
      "source": [
        "import re\n",
        "\n",
        "text = \"Ivory Coast located at the West Coast . Today is 25/06/1996 \"\n",
        "match_pattern = r\"(\\d+)/(\\d+)/(\\d+)\"\n",
        "\n",
        "re.sub(match_pattern, \"Monday\", text)\n",
        "\n",
        "re.split(\"|-|_\", text)"
      ],
      "metadata": {
        "colab": {
          "base_uri": "https://localhost:8080/"
        },
        "id": "Cm31IHtXYbyd",
        "outputId": "da039b15-c605-4e26-fdbb-8f56b0b67205"
      },
      "execution_count": 4,
      "outputs": [
        {
          "output_type": "execute_result",
          "data": {
            "text/plain": [
              "['',\n",
              " 'I',\n",
              " 'v',\n",
              " 'o',\n",
              " 'r',\n",
              " 'y',\n",
              " ' ',\n",
              " 'C',\n",
              " 'o',\n",
              " 'a',\n",
              " 's',\n",
              " 't',\n",
              " ' ',\n",
              " 'l',\n",
              " 'o',\n",
              " 'c',\n",
              " 'a',\n",
              " 't',\n",
              " 'e',\n",
              " 'd',\n",
              " ' ',\n",
              " 'a',\n",
              " 't',\n",
              " ' ',\n",
              " 't',\n",
              " 'h',\n",
              " 'e',\n",
              " ' ',\n",
              " 'W',\n",
              " 'e',\n",
              " 's',\n",
              " 't',\n",
              " ' ',\n",
              " 'C',\n",
              " 'o',\n",
              " 'a',\n",
              " 's',\n",
              " 't',\n",
              " ' ',\n",
              " '.',\n",
              " ' ',\n",
              " 'T',\n",
              " 'o',\n",
              " 'd',\n",
              " 'a',\n",
              " 'y',\n",
              " ' ',\n",
              " 'i',\n",
              " 's',\n",
              " ' ',\n",
              " '2',\n",
              " '5',\n",
              " '/',\n",
              " '0',\n",
              " '6',\n",
              " '/',\n",
              " '1',\n",
              " '9',\n",
              " '9',\n",
              " '6',\n",
              " ' ',\n",
              " '']"
            ]
          },
          "metadata": {},
          "execution_count": 4
        }
      ]
    },
    {
      "cell_type": "code",
      "source": [
        "# multiline\n",
        "text = \"This is a very \"\\\n",
        "    \"long sentence \"\\\n",
        "    \"that is made up.\"\n",
        "\n",
        "text\n"
      ],
      "metadata": {
        "colab": {
          "base_uri": "https://localhost:8080/",
          "height": 34
        },
        "id": "XEoQkE4Xall1",
        "outputId": "73ff0162-c42b-469e-dee6-bcf54ab8434f"
      },
      "execution_count": 5,
      "outputs": [
        {
          "output_type": "execute_result",
          "data": {
            "text/plain": [
              "'This is a very long sentence that is made up.'"
            ],
            "application/vnd.google.colaboratory.intrinsic+json": {
              "type": "string"
            }
          },
          "metadata": {},
          "execution_count": 5
        }
      ]
    }
  ]
}