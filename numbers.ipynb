{
  "nbformat": 4,
  "nbformat_minor": 0,
  "metadata": {
    "colab": {
      "provenance": [],
      "authorship_tag": "ABX9TyOi8kVc+oENNDcO7DyyvTrp",
      "include_colab_link": true
    },
    "kernelspec": {
      "name": "python3",
      "display_name": "Python 3"
    },
    "language_info": {
      "name": "python"
    }
  },
  "cells": [
    {
      "cell_type": "markdown",
      "metadata": {
        "id": "view-in-github",
        "colab_type": "text"
      },
      "source": [
        "<a href=\"https://colab.research.google.com/github/mngugi/Work_Book_Projects/blob/main/numbers.ipynb\" target=\"_parent\"><img src=\"https://colab.research.google.com/assets/colab-badge.svg\" alt=\"Open In Colab\"/></a>"
      ]
    },
    {
      "cell_type": "code",
      "execution_count": 3,
      "metadata": {
        "colab": {
          "base_uri": "https://localhost:8080/"
        },
        "id": "AHxj0cKll7Wk",
        "outputId": "94f761e5-8e00-4996-fb63-a74ef14484ad"
      },
      "outputs": [
        {
          "output_type": "execute_result",
          "data": {
            "text/plain": [
              "Fraction(3752999689475413, 2251799813685248)"
            ]
          },
          "metadata": {},
          "execution_count": 3
        }
      ],
      "source": [
        "from fractions import Fraction\n",
        "\n",
        "res = Fraction(2/3+1)\n",
        "res"
      ]
    },
    {
      "cell_type": "code",
      "source": [
        "# check if the variable is assigned to a number\n",
        "from numbers import Number\n",
        "\n",
        "b = 12\n",
        "c = 36\n",
        "d = 'h'\n",
        "\n",
        "isinstance(d, Number)\n",
        "isinstance(c, Number)"
      ],
      "metadata": {
        "colab": {
          "base_uri": "https://localhost:8080/"
        },
        "id": "MDUnZLaPotSQ",
        "outputId": "06b8bde0-db8f-4182-9d60-7baab14ba338"
      },
      "execution_count": 10,
      "outputs": [
        {
          "output_type": "execute_result",
          "data": {
            "text/plain": [
              "True"
            ]
          },
          "metadata": {},
          "execution_count": 10
        }
      ]
    }
  ]
}