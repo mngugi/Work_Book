{
  "nbformat": 4,
  "nbformat_minor": 0,
  "metadata": {
    "colab": {
      "provenance": [],
      "authorship_tag": "ABX9TyP9drECMXe1iVWlQC1ZLONq",
      "include_colab_link": true
    },
    "kernelspec": {
      "name": "python3",
      "display_name": "Python 3"
    },
    "language_info": {
      "name": "python"
    }
  },
  "cells": [
    {
      "cell_type": "markdown",
      "metadata": {
        "id": "view-in-github",
        "colab_type": "text"
      },
      "source": [
        "<a href=\"https://colab.research.google.com/github/mngugi/Work_Book_Projects/blob/main/numbers.ipynb\" target=\"_parent\"><img src=\"https://colab.research.google.com/assets/colab-badge.svg\" alt=\"Open In Colab\"/></a>"
      ]
    },
    {
      "cell_type": "code",
      "execution_count": 3,
      "metadata": {
        "colab": {
          "base_uri": "https://localhost:8080/"
        },
        "id": "AHxj0cKll7Wk",
        "outputId": "94f761e5-8e00-4996-fb63-a74ef14484ad"
      },
      "outputs": [
        {
          "output_type": "execute_result",
          "data": {
            "text/plain": [
              "Fraction(3752999689475413, 2251799813685248)"
            ]
          },
          "metadata": {},
          "execution_count": 3
        }
      ],
      "source": [
        "from fractions import Fraction\n",
        "\n",
        "res = Fraction(2/3+1)\n",
        "res"
      ]
    },
    {
      "cell_type": "code",
      "source": [
        "# check if the variable is assigned to a number\n",
        "from numbers import Number\n",
        "\n",
        "b = 12\n",
        "c = 36\n",
        "d = 'h'\n",
        "\n",
        "isinstance(d, Number)\n",
        "isinstance(c, Number)"
      ],
      "metadata": {
        "colab": {
          "base_uri": "https://localhost:8080/"
        },
        "id": "MDUnZLaPotSQ",
        "outputId": "06b8bde0-db8f-4182-9d60-7baab14ba338"
      },
      "execution_count": 10,
      "outputs": [
        {
          "output_type": "execute_result",
          "data": {
            "text/plain": [
              "True"
            ]
          },
          "metadata": {},
          "execution_count": 10
        }
      ]
    },
    {
      "cell_type": "code",
      "source": [
        "# Get multiples of numbers\n",
        "def get_multiple_numbers(nums: list, n: int):\n",
        "#def get_multiple_numbers(nums, n):\n",
        "    return [num for num in nums if num % n == 0]\n",
        "\n",
        "nums = [j for j in range(0, 40)]\n",
        "\n",
        "ones = get_multiple_numbers(nums, 1)\n",
        "print(\"multiples of 1:\",ones)\n",
        "\n",
        "twos = get_multiple_numbers(nums, 2)\n",
        "print(\"multiples of 2:\",twos)\n",
        "\n",
        "threes = get_multiple_numbers(nums, 3)\n",
        "print(\"multiples of 3:\",threes)\n"
      ],
      "metadata": {
        "colab": {
          "base_uri": "https://localhost:8080/"
        },
        "id": "Ld5ZE6lTr_Zv",
        "outputId": "6d2abf89-7f65-49c2-ab49-525146bbc65d"
      },
      "execution_count": 17,
      "outputs": [
        {
          "output_type": "stream",
          "name": "stdout",
          "text": [
            "multiples of 1: [0, 1, 2, 3, 4, 5, 6, 7, 8, 9, 10, 11, 12, 13, 14, 15, 16, 17, 18, 19, 20, 21, 22, 23, 24, 25, 26, 27, 28, 29, 30, 31, 32, 33, 34, 35, 36, 37, 38, 39]\n",
            "multiples of 2: [0, 2, 4, 6, 8, 10, 12, 14, 16, 18, 20, 22, 24, 26, 28, 30, 32, 34, 36, 38]\n",
            "multiples of 3: [0, 3, 6, 9, 12, 15, 18, 21, 24, 27, 30, 33, 36, 39]\n"
          ]
        }
      ]
    }
  ]
}