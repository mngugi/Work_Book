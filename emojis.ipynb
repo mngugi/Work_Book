{
 "cells": [
  {
   "cell_type": "code",
   "execution_count": 2,
   "id": "92215b36-07cb-46da-be52-b5a7ac42ef3f",
   "metadata": {},
   "outputs": [
    {
     "name": "stdout",
     "output_type": "stream",
     "text": [
      "😀\n",
      "👍\n",
      ":smile:\n",
      "🕶️\n"
     ]
    }
   ],
   "source": [
    "import demoji\n",
    "import emoji \n",
    "\n",
    "\n",
    "print(emoji.emojize(\":grinning_face:\"))  # 😀\n",
    "print(emoji.emojize(\":thumbs_up:\"))      # 👍\n",
    "print(emoji.emojize(\":smile:\"))  # 😄\n",
    "print(emoji.emojize(\":sunglasses:\"))  # 😎\n"
   ]
  },
  {
   "cell_type": "code",
   "execution_count": 6,
   "id": "c7893e01-361c-4e03-b735-b3af0ab49281",
   "metadata": {},
   "outputs": [
    {
     "name": "stdout",
     "output_type": "stream",
     "text": [
      "Collecting emoji\n",
      "  Downloading emoji-2.12.1-py3-none-any.whl.metadata (5.4 kB)\n",
      "Requirement already satisfied: typing-extensions>=4.7.0 in ./.var/app/org.jupyter.JupyterLab/config/jupyterlab-desktop/jlab_server/lib/python3.12/site-packages (from emoji) (4.11.0)\n",
      "Downloading emoji-2.12.1-py3-none-any.whl (431 kB)\n",
      "\u001b[2K   \u001b[90m━━━━━━━━━━━━━━━━━━━━━━━━━━━━━━━━━━━━━━━━\u001b[0m \u001b[32m431.4/431.4 kB\u001b[0m \u001b[31m1.1 MB/s\u001b[0m eta \u001b[36m0:00:00\u001b[0m00:01\u001b[0m00:01\u001b[0mm\n",
      "\u001b[?25hInstalling collected packages: emoji\n",
      "Successfully installed emoji-2.12.1\n"
     ]
    }
   ],
   "source": [
    "!pip install emoji\n"
   ]
  },
  {
   "cell_type": "code",
   "execution_count": null,
   "id": "352fb731-8aa3-4939-9fa8-9e3372ad21f5",
   "metadata": {},
   "outputs": [],
   "source": []
  }
 ],
 "metadata": {
  "kernelspec": {
   "display_name": "Python 3 (ipykernel)",
   "language": "python",
   "name": "python3"
  },
  "language_info": {
   "codemirror_mode": {
    "name": "ipython",
    "version": 3
   },
   "file_extension": ".py",
   "mimetype": "text/x-python",
   "name": "python",
   "nbconvert_exporter": "python",
   "pygments_lexer": "ipython3",
   "version": "3.12.3"
  }
 },
 "nbformat": 4,
 "nbformat_minor": 5
}
