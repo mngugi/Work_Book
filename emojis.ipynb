{
 "cells": [
  {
   "cell_type": "code",
   "execution_count": 1,
   "id": "92215b36-07cb-46da-be52-b5a7ac42ef3f",
   "metadata": {},
   "outputs": [
    {
     "name": "stdout",
     "output_type": "stream",
     "text": [
      "😀\n",
      "👍\n",
      ":smile:\n",
      "🕶️\n"
     ]
    }
   ],
   "source": [
    "import demoji\n",
    "import emoji \n",
    "\n",
    "\n",
    "print(emoji.emojize(\":grinning_face:\"))  # 😀\n",
    "print(emoji.emojize(\":thumbs_up:\"))      # 👍\n",
    "print(emoji.emojize(\":smile:\"))  # 😄\n",
    "print(emoji.emojize(\":sunglasses:\"))  # 😎\n"
   ]
  },
  {
   "cell_type": "code",
   "execution_count": null,
   "id": "352fb731-8aa3-4939-9fa8-9e3372ad21f5",
   "metadata": {},
   "outputs": [],
   "source": []
  }
 ],
 "metadata": {
  "kernelspec": {
   "display_name": "Python 3 (ipykernel)",
   "language": "python",
   "name": "python3"
  },
  "language_info": {
   "codemirror_mode": {
    "name": "ipython",
    "version": 3
   },
   "file_extension": ".py",
   "mimetype": "text/x-python",
   "name": "python",
   "nbconvert_exporter": "python",
   "pygments_lexer": "ipython3",
   "version": "3.10.12"
  }
 },
 "nbformat": 4,
 "nbformat_minor": 5
}
