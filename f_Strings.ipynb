{
  "nbformat": 4,
  "nbformat_minor": 0,
  "metadata": {
    "colab": {
      "provenance": [],
      "authorship_tag": "ABX9TyOUEfmT89jhkgsyPUFmTix3",
      "include_colab_link": true
    },
    "kernelspec": {
      "name": "python3",
      "display_name": "Python 3"
    },
    "language_info": {
      "name": "python"
    }
  },
  "cells": [
    {
      "cell_type": "markdown",
      "metadata": {
        "id": "view-in-github",
        "colab_type": "text"
      },
      "source": [
        "<a href=\"https://colab.research.google.com/github/mngugi/Work_Book_Projects/blob/main/f_Strings.ipynb\" target=\"_parent\"><img src=\"https://colab.research.google.com/assets/colab-badge.svg\" alt=\"Open In Colab\"/></a>"
      ]
    },
    {
      "cell_type": "code",
      "execution_count": 3,
      "metadata": {
        "colab": {
          "base_uri": "https://localhost:8080/"
        },
        "id": "xt0a_qlO0rdb",
        "outputId": "b3ef7bd7-a547-4648-a3d6-3518a6a32e58"
      },
      "outputs": [
        {
          "output_type": "stream",
          "name": "stdout",
          "text": [
            "6.3\n",
            "6.33\n",
            "6.334\n",
            "6.3337\n"
          ]
        }
      ],
      "source": [
        "decimals = 6.3336664\n",
        "\n",
        "print(f'{decimals:.1f}') #limit to 1 decimal places\n",
        "print(f'{decimals:.2f}') #limit to 2 decimal places\n",
        "print(f'{decimals:.3f}') #limit to 3 decimal places\n",
        "print(f'{decimals:.4f}') #limit to 4 decimal places"
      ]
    },
    {
      "cell_type": "code",
      "source": [
        "from datetime import datetime\n",
        "\n",
        "date = datetime(2024,1,1,5,30,45)\n",
        "\n",
        "print(f' Be on time at: {date:%I:%M %p} on {date:%A}')"
      ],
      "metadata": {
        "colab": {
          "base_uri": "https://localhost:8080/"
        },
        "id": "zC3qViJS-gYO",
        "outputId": "1510be26-a254-47e6-ff45-fd5d2525d80c"
      },
      "execution_count": 7,
      "outputs": [
        {
          "output_type": "stream",
          "name": "stdout",
          "text": [
            " Be on time at: 05:30 AM on Monday\n"
          ]
        }
      ]
    }
  ]
}