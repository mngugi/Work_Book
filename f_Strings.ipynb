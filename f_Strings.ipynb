{
  "nbformat": 4,
  "nbformat_minor": 0,
  "metadata": {
    "colab": {
      "provenance": [],
      "authorship_tag": "ABX9TyNjxARt0T5Srkjf+gzNiT6k",
      "include_colab_link": true
    },
    "kernelspec": {
      "name": "python3",
      "display_name": "Python 3"
    },
    "language_info": {
      "name": "python"
    }
  },
  "cells": [
    {
      "cell_type": "markdown",
      "metadata": {
        "id": "view-in-github",
        "colab_type": "text"
      },
      "source": [
        "<a href=\"https://colab.research.google.com/github/mngugi/Work_Book_Projects/blob/main/f_Strings.ipynb\" target=\"_parent\"><img src=\"https://colab.research.google.com/assets/colab-badge.svg\" alt=\"Open In Colab\"/></a>"
      ]
    },
    {
      "cell_type": "code",
      "execution_count": 3,
      "metadata": {
        "colab": {
          "base_uri": "https://localhost:8080/"
        },
        "id": "xt0a_qlO0rdb",
        "outputId": "b3ef7bd7-a547-4648-a3d6-3518a6a32e58"
      },
      "outputs": [
        {
          "output_type": "stream",
          "name": "stdout",
          "text": [
            "6.3\n",
            "6.33\n",
            "6.334\n",
            "6.3337\n"
          ]
        }
      ],
      "source": [
        "decimals = 6.3336664\n",
        "\n",
        "print(f'{decimals:.1f}') #limit to 1 decimal places\n",
        "print(f'{decimals:.2f}') #limit to 2 decimal places\n",
        "print(f'{decimals:.3f}') #limit to 3 decimal places\n",
        "print(f'{decimals:.4f}') #limit to 4 decimal places"
      ]
    }
  ]
}