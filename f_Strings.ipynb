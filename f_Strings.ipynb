{
  "nbformat": 4,
  "nbformat_minor": 0,
  "metadata": {
    "colab": {
      "provenance": [],
      "authorship_tag": "ABX9TyOGeRbCXgV61nkeuOt+SNbD",
      "include_colab_link": true
    },
    "kernelspec": {
      "name": "python3",
      "display_name": "Python 3"
    },
    "language_info": {
      "name": "python"
    }
  },
  "cells": [
    {
      "cell_type": "markdown",
      "metadata": {
        "id": "view-in-github",
        "colab_type": "text"
      },
      "source": [
        "<a href=\"https://colab.research.google.com/github/mngugi/Work_Book_Projects/blob/main/f_Strings.ipynb\" target=\"_parent\"><img src=\"https://colab.research.google.com/assets/colab-badge.svg\" alt=\"Open In Colab\"/></a>"
      ]
    },
    {
      "cell_type": "code",
      "execution_count": 3,
      "metadata": {
        "colab": {
          "base_uri": "https://localhost:8080/"
        },
        "id": "xt0a_qlO0rdb",
        "outputId": "b3ef7bd7-a547-4648-a3d6-3518a6a32e58"
      },
      "outputs": [
        {
          "output_type": "stream",
          "name": "stdout",
          "text": [
            "6.3\n",
            "6.33\n",
            "6.334\n",
            "6.3337\n"
          ]
        }
      ],
      "source": [
        "decimals = 6.3336664\n",
        "\n",
        "print(f'{decimals:.1f}') #limit to 1 decimal places\n",
        "print(f'{decimals:.2f}') #limit to 2 decimal places\n",
        "print(f'{decimals:.3f}') #limit to 3 decimal places\n",
        "print(f'{decimals:.4f}') #limit to 4 decimal places"
      ]
    },
    {
      "cell_type": "code",
      "source": [
        "# format date and time\n",
        "from datetime import datetime\n",
        "\n",
        "date = datetime(2024,1,1,5,30,45)\n",
        "\n",
        "print(f' Be on time at: {date:%I:%M %p} on {date:%A}')"
      ],
      "metadata": {
        "colab": {
          "base_uri": "https://localhost:8080/"
        },
        "id": "zC3qViJS-gYO",
        "outputId": "1510be26-a254-47e6-ff45-fd5d2525d80c"
      },
      "execution_count": 7,
      "outputs": [
        {
          "output_type": "stream",
          "name": "stdout",
          "text": [
            " Be on time at: 05:30 AM on Monday\n"
          ]
        }
      ]
    },
    {
      "cell_type": "code",
      "source": [
        "# set your alarm at 03\n",
        "\n",
        "for hour in range(4, 7):\n",
        "  print(f' Its time {hour:03} AM! Wakii Wakii!')"
      ],
      "metadata": {
        "colab": {
          "base_uri": "https://localhost:8080/"
        },
        "id": "0dhMJmza_oSB",
        "outputId": "bffb4e9f-bd6d-4700-f106-7b33110371fc"
      },
      "execution_count": 9,
      "outputs": [
        {
          "output_type": "stream",
          "name": "stdout",
          "text": [
            " Its time 004 AM! Wakii Wakii!\n",
            " Its time 005 AM! Wakii Wakii!\n",
            " Its time 006 AM! Wakii Wakii!\n"
          ]
        }
      ]
    },
    {
      "cell_type": "code",
      "source": [
        "# enhance number readability with f=strings\n",
        "\n",
        "number = 200**5\n",
        "\n",
        "print(number)\n",
        "print(f'{number:,}')\n"
      ],
      "metadata": {
        "colab": {
          "base_uri": "https://localhost:8080/"
        },
        "id": "w4RPtJDQAe0j",
        "outputId": "d4e136d2-1416-47d8-b582-6c1a5cbf9034"
      },
      "execution_count": 10,
      "outputs": [
        {
          "output_type": "stream",
          "name": "stdout",
          "text": [
            "320000000000\n",
            "320,000,000,000\n"
          ]
        }
      ]
    },
    {
      "cell_type": "code",
      "source": [],
      "metadata": {
        "id": "9MCHeLIfBvtQ"
      },
      "execution_count": null,
      "outputs": []
    }
  ]
}