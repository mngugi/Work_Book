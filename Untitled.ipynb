{
 "cells": [
  {
   "cell_type": "code",
   "execution_count": 4,
   "id": "41824068-d199-478c-8b00-e52d8046c50f",
   "metadata": {},
   "outputs": [
    {
     "name": "stderr",
     "output_type": "stream",
     "text": [
      "Could not find the rust toolchain installation. Make sure it is installed and the `PATH` environment variable is set correctly.\n",
      "\n",
      "You can install the toolchain like this:\n",
      "$ curl https://sh.rustup.rs | sh\n",
      "\n"
     ]
    },
    {
     "ename": "FileNotFoundError",
     "evalue": "Could not find cargo binary.",
     "output_type": "error",
     "traceback": [
      "\u001b[0;31m---------------------------------------------------------------------------\u001b[0m",
      "\u001b[0;31mFileNotFoundError\u001b[0m                         Traceback (most recent call last)",
      "Cell \u001b[0;32mIn[4], line 2\u001b[0m\n\u001b[1;32m      1\u001b[0m \u001b[38;5;28;01mimport\u001b[39;00m \u001b[38;5;21;01mrustimport\u001b[39;00m\u001b[38;5;21;01m.\u001b[39;00m\u001b[38;5;21;01mimport_hook\u001b[39;00m\n\u001b[0;32m----> 2\u001b[0m \u001b[38;5;28;01mimport\u001b[39;00m \u001b[38;5;21;01mCodeRust\u001b[39;00m\n\u001b[1;32m      3\u001b[0m CodeRust\u001b[38;5;241m.\u001b[39msquare(\u001b[38;5;241m4\u001b[39m)\n",
      "File \u001b[0;32m<frozen importlib._bootstrap>:1176\u001b[0m, in \u001b[0;36m_find_and_load\u001b[0;34m(name, import_)\u001b[0m\n",
      "File \u001b[0;32m<frozen importlib._bootstrap>:1147\u001b[0m, in \u001b[0;36m_find_and_load_unlocked\u001b[0;34m(name, import_)\u001b[0m\n",
      "File \u001b[0;32m<frozen importlib._bootstrap>:676\u001b[0m, in \u001b[0;36m_load_unlocked\u001b[0;34m(spec)\u001b[0m\n",
      "File \u001b[0;32m<frozen importlib._bootstrap>:573\u001b[0m, in \u001b[0;36mmodule_from_spec\u001b[0;34m(spec)\u001b[0m\n",
      "File \u001b[0;32m~/.local/lib/python3.11/site-packages/rustimport/import_hook.py:50\u001b[0m, in \u001b[0;36mLoader.create_module\u001b[0;34m(self, spec)\u001b[0m\n\u001b[1;32m     48\u001b[0m \u001b[38;5;28;01mdef\u001b[39;00m \u001b[38;5;21mcreate_module\u001b[39m(\u001b[38;5;28mself\u001b[39m, spec: ModuleSpec) \u001b[38;5;241m-\u001b[39m\u001b[38;5;241m>\u001b[39m Optional[types\u001b[38;5;241m.\u001b[39mModuleType]:\n\u001b[1;32m     49\u001b[0m     \u001b[38;5;28;01mif\u001b[39;00m should_rebuild(\u001b[38;5;28mself\u001b[39m\u001b[38;5;241m.\u001b[39m__importable):\n\u001b[0;32m---> 50\u001b[0m         \u001b[38;5;28;43mself\u001b[39;49m\u001b[38;5;241;43m.\u001b[39;49m\u001b[43m__importable\u001b[49m\u001b[38;5;241;43m.\u001b[39;49m\u001b[43mbuild\u001b[49m\u001b[43m(\u001b[49m\u001b[43mrelease\u001b[49m\u001b[38;5;241;43m=\u001b[39;49m\u001b[43msettings\u001b[49m\u001b[38;5;241;43m.\u001b[39;49m\u001b[43mcompile_release_binaries\u001b[49m\u001b[43m)\u001b[49m\n\u001b[1;32m     51\u001b[0m     \u001b[38;5;28;01mreturn\u001b[39;00m \u001b[38;5;28mself\u001b[39m\u001b[38;5;241m.\u001b[39m__importable\u001b[38;5;241m.\u001b[39mload()\n",
      "File \u001b[0;32m~/.local/lib/python3.11/site-packages/rustimport/importable.py:132\u001b[0m, in \u001b[0;36mSingleFileImportable.build\u001b[0;34m(self, release)\u001b[0m\n\u001b[1;32m    129\u001b[0m \u001b[38;5;28;01mwith\u001b[39;00m \u001b[38;5;28mopen\u001b[39m(os\u001b[38;5;241m.\u001b[39mpath\u001b[38;5;241m.\u001b[39mjoin(path, \u001b[38;5;124m'\u001b[39m\u001b[38;5;124mCargo.toml\u001b[39m\u001b[38;5;124m'\u001b[39m), \u001b[38;5;124m'\u001b[39m\u001b[38;5;124mwb+\u001b[39m\u001b[38;5;124m'\u001b[39m) \u001b[38;5;28;01mas\u001b[39;00m f:\n\u001b[1;32m    130\u001b[0m     f\u001b[38;5;241m.\u001b[39mwrite(preprocessed\u001b[38;5;241m.\u001b[39mcargo_manifest)\n\u001b[0;32m--> 132\u001b[0m build_result \u001b[38;5;241m=\u001b[39m \u001b[43mCargo\u001b[49m\u001b[43m(\u001b[49m\u001b[43m)\u001b[49m\u001b[38;5;241m.\u001b[39mbuild(\n\u001b[1;32m    133\u001b[0m     path,\n\u001b[1;32m    134\u001b[0m     destination_path\u001b[38;5;241m=\u001b[39m\u001b[38;5;28mself\u001b[39m\u001b[38;5;241m.\u001b[39mextension_path,\n\u001b[1;32m    135\u001b[0m     release\u001b[38;5;241m=\u001b[39mrelease,\n\u001b[1;32m    136\u001b[0m     additional_args\u001b[38;5;241m=\u001b[39mpreprocessed\u001b[38;5;241m.\u001b[39madditional_cargo_args,\n\u001b[1;32m    137\u001b[0m )\n\u001b[1;32m    139\u001b[0m \u001b[38;5;28;01mif\u001b[39;00m \u001b[38;5;129;01mnot\u001b[39;00m build_result\u001b[38;5;241m.\u001b[39msuccess:\n\u001b[1;32m    140\u001b[0m     \u001b[38;5;28;01mraise\u001b[39;00m BuildError(\u001b[38;5;124mf\u001b[39m\u001b[38;5;124m\"\u001b[39m\u001b[38;5;124mFailed to build \u001b[39m\u001b[38;5;132;01m{\u001b[39;00m\u001b[38;5;28mself\u001b[39m\u001b[38;5;241m.\u001b[39mpath\u001b[38;5;132;01m}\u001b[39;00m\u001b[38;5;124m\"\u001b[39m)\n",
      "File \u001b[0;32m~/.local/lib/python3.11/site-packages/rustimport/compiler.py:17\u001b[0m, in \u001b[0;36mCargo.__init__\u001b[0;34m(self, executable_path)\u001b[0m\n\u001b[1;32m     16\u001b[0m \u001b[38;5;28;01mdef\u001b[39;00m \u001b[38;5;21m__init__\u001b[39m(\u001b[38;5;28mself\u001b[39m, executable_path: Optional[\u001b[38;5;28mstr\u001b[39m] \u001b[38;5;241m=\u001b[39m \u001b[38;5;28;01mNone\u001b[39;00m):\n\u001b[0;32m---> 17\u001b[0m     \u001b[38;5;28mself\u001b[39m\u001b[38;5;241m.\u001b[39mexecutable_path \u001b[38;5;241m=\u001b[39m executable_path \u001b[38;5;129;01mor\u001b[39;00m settings\u001b[38;5;241m.\u001b[39mcargo_executable \u001b[38;5;129;01mor\u001b[39;00m \u001b[43mrequire\u001b[49m\u001b[43m(\u001b[49m\u001b[38;5;124;43m'\u001b[39;49m\u001b[38;5;124;43mcargo\u001b[39;49m\u001b[38;5;124;43m'\u001b[39;49m\u001b[43m)\u001b[49m\n",
      "File \u001b[0;32m~/.local/lib/python3.11/site-packages/rustimport/compiler.py:141\u001b[0m, in \u001b[0;36mrequire\u001b[0;34m(executable_name)\u001b[0m\n\u001b[1;32m    135\u001b[0m \u001b[38;5;28;01melse\u001b[39;00m:\n\u001b[1;32m    136\u001b[0m     sys\u001b[38;5;241m.\u001b[39mstderr\u001b[38;5;241m.\u001b[39mwrite(\n\u001b[1;32m    137\u001b[0m         \u001b[38;5;124m\"\u001b[39m\u001b[38;5;124mTo install the toolchain, visit https://forge.rust-lang.org/infra/other-installation-methods.html\u001b[39m\u001b[38;5;124m\"\u001b[39m\n\u001b[1;32m    138\u001b[0m         \u001b[38;5;124m\"\u001b[39m\u001b[38;5;124m#other-ways-to-install-rustup\u001b[39m\u001b[38;5;130;01m\\n\u001b[39;00m\u001b[38;5;130;01m\\n\u001b[39;00m\u001b[38;5;124m\"\u001b[39m\n\u001b[1;32m    139\u001b[0m     )\n\u001b[0;32m--> 141\u001b[0m \u001b[38;5;28;01mraise\u001b[39;00m \u001b[38;5;167;01mFileNotFoundError\u001b[39;00m(\u001b[38;5;124mf\u001b[39m\u001b[38;5;124m'\u001b[39m\u001b[38;5;124mCould not find \u001b[39m\u001b[38;5;132;01m{\u001b[39;00mexecutable_name\u001b[38;5;132;01m}\u001b[39;00m\u001b[38;5;124m binary.\u001b[39m\u001b[38;5;124m'\u001b[39m)\n",
      "\u001b[0;31mFileNotFoundError\u001b[0m: Could not find cargo binary."
     ]
    }
   ],
   "source": [
    "import rustimport.import_hook\n",
    "import CodeRust\n",
    "CodeRust.square(4)\n"
   ]
  },
  {
   "cell_type": "code",
   "execution_count": 3,
   "id": "5606552b-ef54-4c51-af4b-bc55a8725a6f",
   "metadata": {},
   "outputs": [
    {
     "name": "stdout",
     "output_type": "stream",
     "text": [
      "Defaulting to user installation because normal site-packages is not writeable\n",
      "Requirement already satisfied: rustimport in /home/x38fed/.local/lib/python3.11/site-packages (1.3.4)\n",
      "Requirement already satisfied: toml>=0.10.2 in /home/x38fed/.local/lib/python3.11/site-packages (from rustimport) (0.10.2)\n"
     ]
    }
   ],
   "source": [
    "!pip install rustimport\n"
   ]
  },
  {
   "cell_type": "code",
   "execution_count": null,
   "id": "3ed4578a-a651-4239-b665-fd97eb3959e7",
   "metadata": {},
   "outputs": [],
   "source": []
  },
  {
   "cell_type": "code",
   "execution_count": null,
   "id": "e99dc2ad-c19f-4e93-b9a6-ff2914638671",
   "metadata": {},
   "outputs": [],
   "source": []
  }
 ],
 "metadata": {
  "kernelspec": {
   "display_name": "Python 3 (ipykernel)",
   "language": "python",
   "name": "python3"
  },
  "language_info": {
   "codemirror_mode": {
    "name": "ipython",
    "version": 3
   },
   "file_extension": ".py",
   "mimetype": "text/x-python",
   "name": "python",
   "nbconvert_exporter": "python",
   "pygments_lexer": "ipython3",
   "version": "3.11.6"
  }
 },
 "nbformat": 4,
 "nbformat_minor": 5
}
