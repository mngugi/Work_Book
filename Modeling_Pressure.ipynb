{
 "cells": [
  {
   "cell_type": "code",
   "execution_count": 6,
   "id": "be45d539-26a0-4db0-b92e-2d997482dba1",
   "metadata": {},
   "outputs": [
    {
     "name": "stdin",
     "output_type": "stream",
     "text": [
      "Enter Depth in ft':  50\n"
     ]
    },
    {
     "name": "stdout",
     "output_type": "stream",
     "text": [
      "37.2\n"
     ]
    }
   ],
   "source": [
    "Depth = input(\"Enter Depth in ft': \")\n",
    "Pressure =   14.7\n",
    "Depth = float(Depth) # convert user input to float\n",
    "\n",
    "Actual_Pressure = Pressure + (0.45*Depth)\n",
    "\n",
    "print(Actual_Pressure)"
   ]
  },
  {
   "cell_type": "code",
   "execution_count": null,
   "id": "dd5d56e7-6de9-4f3b-9449-bd9e849c00ea",
   "metadata": {},
   "outputs": [],
   "source": []
  }
 ],
 "metadata": {
  "kernelspec": {
   "display_name": "Python 3 (ipykernel)",
   "language": "python",
   "name": "python3"
  },
  "language_info": {
   "codemirror_mode": {
    "name": "ipython",
    "version": 3
   },
   "file_extension": ".py",
   "mimetype": "text/x-python",
   "name": "python",
   "nbconvert_exporter": "python",
   "pygments_lexer": "ipython3",
   "version": "3.11.5"
  }
 },
 "nbformat": 4,
 "nbformat_minor": 5
}
