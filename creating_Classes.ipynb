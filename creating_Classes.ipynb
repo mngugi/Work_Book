{
  "nbformat": 4,
  "nbformat_minor": 0,
  "metadata": {
    "colab": {
      "provenance": [],
      "authorship_tag": "ABX9TyPWi8HhBPyJqbnSlWhucMoZ",
      "include_colab_link": true
    },
    "kernelspec": {
      "name": "python3",
      "display_name": "Python 3"
    },
    "language_info": {
      "name": "python"
    }
  },
  "cells": [
    {
      "cell_type": "markdown",
      "metadata": {
        "id": "view-in-github",
        "colab_type": "text"
      },
      "source": [
        "<a href=\"https://colab.research.google.com/github/mngugi/Work_Book_Projects/blob/main/creating_Classes.ipynb\" target=\"_parent\"><img src=\"https://colab.research.google.com/assets/colab-badge.svg\" alt=\"Open In Colab\"/></a>"
      ]
    },
    {
      "cell_type": "code",
      "source": [
        "class Person:\n",
        "    def __init__(self, person_id, name, age, address):\n",
        "        self.person_id = person_id\n",
        "        self.name = name\n",
        "        self.age = age\n",
        "        self.address = address\n",
        "\n",
        "# Creating an instance of Person class\n",
        "person1 = Person(1, \"John\", 30, \"123 Main St\")\n",
        "\n",
        "# Accessing attributes of the person1 instance\n",
        "print(person1.person_id)\n",
        "print(person1.name)\n",
        "print(person1.age)\n",
        "print(person1.address)\n"
      ],
      "metadata": {
        "id": "T3dk6nq2J7o6"
      },
      "execution_count": null,
      "outputs": []
    },
    {
      "cell_type": "code",
      "source": [
        "class Car:\n",
        "  def __init__(self, vehicleID, ownerID, ownerType, model, year):\n",
        "    self.vehicleID = vehicleID\n",
        "    self.ownerID = ownerID\n",
        "    self.ownerType = ownerType\n",
        "    self.model = model\n",
        "    self.year = year\n",
        "\n",
        "# creating instance of the car class\n",
        "\n",
        "Car_bought = Car(2,\"Peter\",\"Personal\", \"Toyota\",\"1999\" )\n",
        "\n",
        "#Access the attributes\n",
        "\n",
        "print(Car_bought.vehicleID)\n",
        "print(Car_bought.ownerID)\n",
        "print(Car_bought.ownerType)\n",
        "print(Car_bought.model)\n",
        "print(Car_bought.year)"
      ],
      "metadata": {
        "colab": {
          "base_uri": "https://localhost:8080/"
        },
        "id": "TDvvTbpBnrbu",
        "outputId": "0f12b636-8e65-4086-fe1b-98db833de619"
      },
      "execution_count": 3,
      "outputs": [
        {
          "output_type": "stream",
          "name": "stdout",
          "text": [
            "2\n",
            "Peter\n",
            "Personal\n",
            "Toyota\n",
            "1999\n"
          ]
        }
      ]
    }
  ]
}