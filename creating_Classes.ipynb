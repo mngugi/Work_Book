{
  "nbformat": 4,
  "nbformat_minor": 0,
  "metadata": {
    "colab": {
      "provenance": [],
      "authorship_tag": "ABX9TyOvpsXeZ/Yxy9OICvWi8Ha8",
      "include_colab_link": true
    },
    "kernelspec": {
      "name": "python3",
      "display_name": "Python 3"
    },
    "language_info": {
      "name": "python"
    }
  },
  "cells": [
    {
      "cell_type": "markdown",
      "metadata": {
        "id": "view-in-github",
        "colab_type": "text"
      },
      "source": [
        "<a href=\"https://colab.research.google.com/github/mngugi/Work_Book_Projects/blob/main/creating_Classes.ipynb\" target=\"_parent\"><img src=\"https://colab.research.google.com/assets/colab-badge.svg\" alt=\"Open In Colab\"/></a>"
      ]
    },
    {
      "cell_type": "code",
      "source": [
        "class Person:\n",
        "    def __init__(self, person_id, name, age, address):\n",
        "        self.person_id = person_id\n",
        "        self.name = name\n",
        "        self.age = age\n",
        "        self.address = address\n",
        "\n",
        "# Creating an instance of Person class\n",
        "person1 = Person(1, \"John\", 30, \"123 Main St\")\n",
        "\n",
        "# Accessing attributes of the person1 instance\n",
        "print(person1.person_id)\n",
        "print(person1.name)\n",
        "print(person1.age)\n",
        "print(person1.address)\n"
      ],
      "metadata": {
        "colab": {
          "base_uri": "https://localhost:8080/"
        },
        "id": "T3dk6nq2J7o6",
        "outputId": "cabf8394-c647-4f6d-958e-071a23f84d19"
      },
      "execution_count": 10,
      "outputs": [
        {
          "output_type": "stream",
          "name": "stdout",
          "text": [
            "1\n",
            "John\n",
            "30\n",
            "123 Main St\n"
          ]
        }
      ]
    }
  ]
}