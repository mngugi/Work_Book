{
  "nbformat": 4,
  "nbformat_minor": 0,
  "metadata": {
    "colab": {
      "provenance": [],
      "authorship_tag": "ABX9TyPqiq6t+P8EO/e8mkQ9KQ3r",
      "include_colab_link": true
    },
    "kernelspec": {
      "name": "python3",
      "display_name": "Python 3"
    },
    "language_info": {
      "name": "python"
    }
  },
  "cells": [
    {
      "cell_type": "markdown",
      "metadata": {
        "id": "view-in-github",
        "colab_type": "text"
      },
      "source": [
        "<a href=\"https://colab.research.google.com/github/mngugi/Work_Book_Projects/blob/main/creating_Classes.ipynb\" target=\"_parent\"><img src=\"https://colab.research.google.com/assets/colab-badge.svg\" alt=\"Open In Colab\"/></a>"
      ]
    },
    {
      "cell_type": "code",
      "source": [
        "class Person:\n",
        "    def __init__(self, person_id, name, age, address):\n",
        "        self.person_id = person_id\n",
        "        self.name = name\n",
        "        self.age = age\n",
        "        self.address = address\n",
        "\n",
        "# Creating an instance of Person class\n",
        "person1 = Person(1, \"John\", 30, \"123 Main St\")\n",
        "\n",
        "# Accessing attributes of the person1 instance\n",
        "print(person1.person_id)\n",
        "print(person1.name)\n",
        "print(person1.age)\n",
        "print(person1.address)\n"
      ],
      "metadata": {
        "colab": {
          "base_uri": "https://localhost:8080/"
        },
        "id": "T3dk6nq2J7o6",
        "outputId": "3bd2be27-c01a-4c4d-fc36-ddfdca789810"
      },
      "execution_count": 7,
      "outputs": [
        {
          "output_type": "stream",
          "name": "stdout",
          "text": [
            "1\n",
            "John\n",
            "30\n",
            "123 Main St\n"
          ]
        }
      ]
    },
    {
      "cell_type": "code",
      "source": [
        "class Car:\n",
        "  def __init__(self, vehicleID, ownerID, ownerType, model, year):\n",
        "    self.vehicleID = vehicleID\n",
        "    self.ownerID = ownerID\n",
        "    self.ownerType = ownerType\n",
        "    self.model = model\n",
        "    self.year = year\n",
        "\n",
        "# creating instance of the car class\n",
        "\n",
        "Car_bought = Car(2,\"Peter\",\"Personal\", \"Toyota\",\"1999\" )\n",
        "\n",
        "#Access the attributes\n",
        "\n",
        "print(Car_bought.vehicleID)\n",
        "print(Car_bought.ownerID)\n",
        "print(Car_bought.ownerType)\n",
        "print(Car_bought.model)\n",
        "print(Car_bought.year)"
      ],
      "metadata": {
        "colab": {
          "base_uri": "https://localhost:8080/"
        },
        "id": "TDvvTbpBnrbu",
        "outputId": "0f12b636-8e65-4086-fe1b-98db833de619"
      },
      "execution_count": 3,
      "outputs": [
        {
          "output_type": "stream",
          "name": "stdout",
          "text": [
            "2\n",
            "Peter\n",
            "Personal\n",
            "Toyota\n",
            "1999\n"
          ]
        }
      ]
    },
    {
      "cell_type": "code",
      "source": [
        "class Company:\n",
        "  def __init__(self, companyID, name):\n",
        "    self.companyID = companyID\n",
        "    self.name = name\n",
        "\n",
        "company1 = Company(1001, \"Johnson and Johnson\")\n",
        "\n",
        "\n",
        "print(company1.companyID)\n",
        "print(company1.name)"
      ],
      "metadata": {
        "colab": {
          "base_uri": "https://localhost:8080/"
        },
        "id": "o010UvMm0EIH",
        "outputId": "ee40777f-7b26-459d-8157-38b0ff9a5ede"
      },
      "execution_count": 8,
      "outputs": [
        {
          "output_type": "stream",
          "name": "stdout",
          "text": [
            "1001\n",
            "Johnson and Johnson\n"
          ]
        }
      ]
    },
    {
      "cell_type": "code",
      "source": [
        "class Bank:\n",
        "  def __init__(self, bankID, name):\n",
        "    self.bankID = bankID\n",
        "    self.name = name\n",
        "\n",
        "\n",
        "bank_A = Bank(\"Abc\", \"name\")\n",
        "\n",
        "print(bank_A.bankID)\n",
        "print(bank_A.name)"
      ],
      "metadata": {
        "colab": {
          "base_uri": "https://localhost:8080/"
        },
        "id": "VMZkMxj613AX",
        "outputId": "5a4ebc6f-fb10-4c08-9a4c-39b239ca0c06"
      },
      "execution_count": 9,
      "outputs": [
        {
          "output_type": "stream",
          "name": "stdout",
          "text": [
            "Abc\n",
            "name\n"
          ]
        }
      ]
    },
    {
      "cell_type": "code",
      "source": [
        "class Loan: # creating loan class\n",
        "  # creating loan attributes\n",
        "  def __init__(self, loanID, vehicleID, customerID, accountNumber, bankID, interestRate, currentBalance):\n",
        "    self.loanID = loanID\n",
        "    self.vehicleID = vehicleID\n",
        "    self.customerID = customerID\n",
        "    self.accountNumber = accountNumber\n",
        "    self.bankID = bankID\n",
        "    self.interestRate = interestRate\n",
        "    self.currentBalance = currentBalance\n",
        "\n",
        "\n",
        "vehicle_loan = Loan(100101, 10012, 1002, 12500111, 125000001, 12.5, 521000)\n",
        "\n",
        "print(vehicle_loan.loanID)\n",
        "print(vehicle_loan.vehicleID)\n",
        "print(vehicle_loan.customerID)\n",
        "print(vehicle_loan.accountNumber)\n",
        "print(vehicle_loan.bankID)\n",
        "print(vehicle_loan.interestRate)\n",
        "print(vehicle_loan.currentBalance)\n"
      ],
      "metadata": {
        "colab": {
          "base_uri": "https://localhost:8080/"
        },
        "id": "2WHIShg94GRn",
        "outputId": "fa51fa96-3c37-4cb6-a348-5c62d0c6eaa0"
      },
      "execution_count": 14,
      "outputs": [
        {
          "output_type": "stream",
          "name": "stdout",
          "text": [
            "100101\n",
            "10012\n",
            "1002\n",
            "12500111\n",
            "125000001\n",
            "12.5\n",
            "521000\n"
          ]
        }
      ]
    },
    {
      "cell_type": "code",
      "source": [
        "class Car:\n",
        "    def __init__(self, make, model, year):\n",
        "        self.make = make\n",
        "        self.model = model\n",
        "        self.year = year\n",
        "        self.mileage = 0\n",
        "        self.color = None\n",
        "\n",
        "    def start_engine(self):\n",
        "        print(\"Vroom!\")\n",
        "\n",
        "    def drive(self, miles):\n",
        "        self.mileage += miles\n",
        "        print(f\"Driving {miles} miles...\")\n",
        "\n",
        "    def stop(self):\n",
        "        print(\"Coming to a stop...\")\n",
        "\n",
        "    def get_mileage(self):\n",
        "        return self.mileage\n",
        "\n",
        "    def set_color(self, color):\n",
        "        self.color = color\n",
        "\n",
        "    def __str__(self):\n",
        "        return f\"{self.year} {self.make} {self.model}\"\n"
      ],
      "metadata": {
        "id": "tRUykS9fAqIN"
      },
      "execution_count": 15,
      "outputs": []
    },
    {
      "cell_type": "code",
      "source": [
        "class Car:\n",
        "    def __init__(self, vehicleID, ownerID, ownerType, model, year):\n",
        "        self.vehicleID = vehicleID\n",
        "        self.ownerID = ownerID\n",
        "        self.ownerType = ownerType\n",
        "        self.model = model\n",
        "        self.year = year\n",
        "\n",
        "# creating instance of the Car class\n",
        "car_bought = Car(2, \"Peter\", \"Personal\", \"Toyota\", \"1999\")\n",
        "\n",
        "# Accessing the attributes\n",
        "print(car_bought.vehicleID)\n",
        "print(car_bought.ownerID)\n",
        "print(car_bought.ownerType)\n",
        "print(car_bought.model)\n",
        "print(car_bought.year)\n",
        "\n",
        "\n",
        "class Company:\n",
        "    def __init__(self, companyID, name):\n",
        "        self.companyID = companyID\n",
        "        self.name = name\n",
        "\n",
        "# creating instance of the Company class\n",
        "company1 = Company(1001, \"Johnson and Johnson\")\n",
        "\n",
        "# Accessing the attributes\n",
        "print(company1.companyID)\n",
        "print(company1.name)\n",
        "\n",
        "\n",
        "class Bank:\n",
        "    def __init__(self, bankID, name):\n",
        "        self.bankID = bankID\n",
        "        self.name = name\n",
        "\n",
        "# creating instance of the Bank class\n",
        "bank_A = Bank(\"Abc\", \"name\")\n",
        "\n",
        "# Accessing the attributes\n",
        "print(bank_A.bankID)\n",
        "print(bank_A.name)\n",
        "\n",
        "\n",
        "class Loan:\n",
        "    def __init__(self, loanID, vehicleID, customerID, accountNumber, bankID, interestRate, currentBalance):\n",
        "        self.loanID = loanID\n",
        "        self.vehicleID = vehicleID\n",
        "        self.customerID = customerID\n",
        "        self.accountNumber = accountNumber\n",
        "        self.bankID = bankID\n",
        "        self.interestRate = interestRate\n",
        "        self.currentBalance = currentBalance\n",
        "\n",
        "# creating instance of the Loan class\n",
        "vehicle_loan = Loan(100101, 10012, 1002, 12500111, 125000001, 12.5, 521000)\n",
        "\n",
        "# Accessing the attributes\n",
        "print(vehicle_loan.loanID)\n",
        "print(vehicle_loan.vehicleID)\n",
        "print(vehicle_loan.customerID)\n",
        "print(vehicle_loan.accountNumber)\n",
        "print(vehicle_loan.bankID)\n",
        "print(vehicle_loan.interestRate)\n",
        "print(vehicle_loan.currentBalance)\n"
      ],
      "metadata": {
        "colab": {
          "base_uri": "https://localhost:8080/"
        },
        "id": "-gerZZReFqTD",
        "outputId": "784f689a-e6ba-4561-9bb1-48d2b263d76c"
      },
      "execution_count": 16,
      "outputs": [
        {
          "output_type": "stream",
          "name": "stdout",
          "text": [
            "2\n",
            "Peter\n",
            "Personal\n",
            "Toyota\n",
            "1999\n",
            "1001\n",
            "Johnson and Johnson\n",
            "Abc\n",
            "name\n",
            "100101\n",
            "10012\n",
            "1002\n",
            "12500111\n",
            "125000001\n",
            "12.5\n",
            "521000\n"
          ]
        }
      ]
    },
    {
      "cell_type": "code",
      "source": [
        "class Car:\n",
        "    def __init__(self, vehicle_id: int, owner_id: str, owner_type: str, model: str, year: int):\n",
        "        \"\"\"\n",
        "        Initialize a new Car instance.\n",
        "\n",
        "        Args:\n",
        "            vehicle_id (int): Unique ID for the car.\n",
        "            owner_id (str): Owner's ID.\n",
        "            owner_type (str): Type of owner (e.g., \"Personal\", \"Company\").\n",
        "            model (str): Car model name.\n",
        "            year (int): Car manufacturing year.\n",
        "        \"\"\"\n",
        "        self.vehicle_id = vehicle_id\n",
        "        self.owner_id = owner_id\n",
        "        self.owner_type = owner_type\n",
        "        self.model = model\n",
        "        self.year = year\n",
        "\n",
        "class Company:\n",
        "    def __init__(self, company_id: int, name: str):\n",
        "        \"\"\"\n",
        "        Initialize a new Company instance.\n",
        "\n",
        "        Args:\n",
        "            company_id (int): Unique ID for the company.\n",
        "            name (str): Company name.\n",
        "        \"\"\"\n",
        "        self.company_id = company_id\n",
        "        self.name = name\n",
        "\n",
        "class Bank:\n",
        "    def __init__(self, bank_id: str, name: str):\n",
        "        \"\"\"\n",
        "        Initialize a new Bank instance.\n",
        "\n",
        "        Args:\n",
        "            bank_id (str): Unique ID for the bank.\n",
        "            name (str): Bank name.\n",
        "        \"\"\"\n",
        "        self.bank_id = bank_id\n",
        "        self.name = name\n",
        "\n",
        "class Loan:\n",
        "    def __init__(self, loan_id: int, vehicle_id: int, customer_id: str, account_number: str, bank_id: str, interest_rate: float, current_balance: float):\n",
        "        \"\"\"\n",
        "        Initialize a new Loan instance.\n",
        "\n",
        "        Args:\n",
        "            loan_id (int): Unique ID for the loan.\n",
        "            vehicle_id (int): Vehicle ID associated with this loan.\n",
        "            customer_id (str): Customer's ID.\n",
        "            account_number (str): Account number associated with this loan.\n",
        "            bank_id (str): Bank ID associated with this loan.\n",
        "            interest_rate (float): Interest rate for this loan.\n",
        "            current_balance (float): Current balance of the loan.\n",
        "        \"\"\"\n",
        "        self.loan_id = loan_id\n",
        "        self.vehicle_id = vehicle_id\n",
        "        self.customer_id = customer_id\n",
        "        self.account_number = account_number\n",
        "        self.bank_id = bank_id\n",
        "        self.interest_rate = interest_rate\n",
        "        self.current_balance = current_balance\n",
        "\n",
        "vehicle_loan = Loan(100101, 10012, \"1002\", \"12500111\", \"125000001\", 12.5, 521000)\n",
        "\n",
        "print(vehicle_loan.loan_id)\n",
        "print(vehicle_loan.vehicle_id)\n",
        "print(vehicle_loan.customer_id)\n",
        "print(vehicle_loan.account_number)\n",
        "print(vehicle_loan.bank_id)\n",
        "print(vehicle_loan.interest_rate)\n",
        "print(vehicle_loan.current_balance)\n"
      ],
      "metadata": {
        "colab": {
          "base_uri": "https://localhost:8080/"
        },
        "id": "ZrPJWMqjI4s3",
        "outputId": "368cf5b3-73d0-4058-dbba-c5e45f7a94c7"
      },
      "execution_count": 17,
      "outputs": [
        {
          "output_type": "stream",
          "name": "stdout",
          "text": [
            "100101\n",
            "10012\n",
            "1002\n",
            "12500111\n",
            "125000001\n",
            "12.5\n",
            "521000\n"
          ]
        }
      ]
    }
  ]
}