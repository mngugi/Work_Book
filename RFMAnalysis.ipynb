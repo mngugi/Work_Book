{
 "cells": [
  {
   "cell_type": "code",
   "execution_count": 5,
   "id": "b85933ff-c637-4a72-aa9f-3dd750040ee0",
   "metadata": {},
   "outputs": [
    {
     "name": "stdout",
     "output_type": "stream",
     "text": [
      "\n",
      "\u001b[1mProblem Statement\u001b[1m\n",
      "\n",
      "\n",
      "RFM analysis is a powerful technique used by companies to better understand customer \n",
      "behaviour and optimize engagement strategies. It revolves around three key dimensions: \n",
      "recency, frequency, and monetary value. These dimensions capture essential aspects of \n",
      "customer transactions, providing valuable information for segmentation and personalized \n",
      "marketing campaigns.\n",
      "\n",
      "The given dataset is provided by an e-commerce platform containing customer transaction \n",
      "data including customer ID, purchase date, transaction amount, product information, ID \n",
      "command and location. The platform aims to leverage RFM (recency, frequency, monetary value)\n",
      "analysis to segment customers and optimize customer engagement strategies.\n",
      "\n",
      "\u001b[1mYour task is to perform RFM analysis and develop customer segments based on their RFM\n",
      "scores.The analysis should provide insights into customer behaviour and identification of \n",
      "high-value customers,at-risk customers, and potential opportunities for personalized marketing \n",
      "campaigns.\u001b[1m\n",
      "\n",
      "Reference link:\n",
      "https://statso.io/rfm-analysis-case-study/\n",
      "\n"
     ]
    }
   ],
   "source": [
    "a = '''\n",
    "\\033[1mProblem Statement\\033[1m\n",
    "\n",
    "\n",
    "RFM analysis is a powerful technique used by companies to better understand customer \n",
    "behaviour and optimize engagement strategies. It revolves around three key dimensions: \n",
    "recency, frequency, and monetary value. These dimensions capture essential aspects of \n",
    "customer transactions, providing valuable information for segmentation and personalized \n",
    "marketing campaigns.\n",
    "\n",
    "The given dataset is provided by an e-commerce platform containing customer transaction \n",
    "data including customer ID, purchase date, transaction amount, product information, ID \n",
    "command and location. The platform aims to leverage RFM (recency, frequency, monetary value)\n",
    "analysis to segment customers and optimize customer engagement strategies.\n",
    "\n",
    "\\033[1mYour task is to perform RFM analysis and develop customer segments based on their RFM\n",
    "scores.The analysis should provide insights into customer behaviour and identification of \n",
    "high-value customers,at-risk customers, and potential opportunities for personalized marketing \n",
    "campaigns.\\033[1m\n",
    "\n",
    "Reference link:\n",
    "https://statso.io/rfm-analysis-case-study/\n",
    "''' \n",
    "print(a)\n"
   ]
  },
  {
   "cell_type": "code",
   "execution_count": null,
   "id": "8d503a92-ccdd-4918-b4e5-f4569951ccc0",
   "metadata": {},
   "outputs": [],
   "source": [
    "# import the required libraries for this prokect\n",
    "import pandas as pd\n",
    "import plotly.express as px\n"
   ]
  }
 ],
 "metadata": {
  "kernelspec": {
   "display_name": "Python 3 (ipykernel)",
   "language": "python",
   "name": "python3"
  },
  "language_info": {
   "codemirror_mode": {
    "name": "ipython",
    "version": 3
   },
   "file_extension": ".py",
   "mimetype": "text/x-python",
   "name": "python",
   "nbconvert_exporter": "python",
   "pygments_lexer": "ipython3",
   "version": "3.11.5"
  }
 },
 "nbformat": 4,
 "nbformat_minor": 5
}
