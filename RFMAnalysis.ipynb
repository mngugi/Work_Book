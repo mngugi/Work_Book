{
 "cells": [
  {
   "cell_type": "code",
   "execution_count": 19,
   "id": "b85933ff-c637-4a72-aa9f-3dd750040ee0",
   "metadata": {},
   "outputs": [
    {
     "name": "stdout",
     "output_type": "stream",
     "text": [
      "\n",
      "\u001b[1mProblem Statement\u001b[1m\n",
      "\n",
      "\n",
      "RFM analysis is a powerful technique used by companies to better understand customer \n",
      "behaviour and optimize engagement strategies. It revolves around three key dimensions: \n",
      "recency, frequency, and monetary value. These dimensions capture essential aspects of \n",
      "customer transactions, providing valuable information for segmentation and personalized \n",
      "marketing campaigns.\n",
      "\n",
      "The given dataset is provided by an e-commerce platform containing customer transaction \n",
      "data including customer ID, purchase date, transaction amount, product information, ID \n",
      "command and location. The platform aims to leverage RFM (recency, frequency, monetary value)\n",
      "analysis to segment customers and optimize customer engagement strategies.\n",
      "\n",
      "\u001b[1mYour task is to perform RFM analysis and develop customer segments based on their RFM\n",
      "scores.The analysis should provide insights into customer behaviour and identification of \n",
      "high-value customers,at-risk customers, and potential opportunities for personalized marketing \n",
      "campaigns.\u001b[1m\n",
      "\n",
      "Reference link:\n",
      "https://statso.io/rfm-analysis-case-study/\n",
      "\n"
     ]
    }
   ],
   "source": [
    "a = '''\n",
    "\\033[1mProblem Statement\\033[1m\n",
    "\n",
    "\n",
    "RFM analysis is a powerful technique used by companies to better understand customer \n",
    "behaviour and optimize engagement strategies. It revolves around three key dimensions: \n",
    "recency, frequency, and monetary value. These dimensions capture essential aspects of \n",
    "customer transactions, providing valuable information for segmentation and personalized \n",
    "marketing campaigns.\n",
    "\n",
    "The given dataset is provided by an e-commerce platform containing customer transaction \n",
    "data including customer ID, purchase date, transaction amount, product information, ID \n",
    "command and location. The platform aims to leverage RFM (recency, frequency, monetary value)\n",
    "analysis to segment customers and optimize customer engagement strategies.\n",
    "\n",
    "\\033[1mYour task is to perform RFM analysis and develop customer segments based on their RFM\n",
    "scores.The analysis should provide insights into customer behaviour and identification of \n",
    "high-value customers,at-risk customers, and potential opportunities for personalized marketing \n",
    "campaigns.\\033[1m\n",
    "\n",
    "Reference link:\n",
    "https://statso.io/rfm-analysis-case-study/\n",
    "''' \n",
    "print(a)\n"
   ]
  },
  {
   "cell_type": "code",
   "execution_count": 3,
   "id": "8d503a92-ccdd-4918-b4e5-f4569951ccc0",
   "metadata": {},
   "outputs": [
    {
     "name": "stdout",
     "output_type": "stream",
     "text": [
      "     CustomerID PurchaseDate  TransactionAmount ProductInformation  OrderID  Location\n",
      "0          8814   2023-04-11             943.31          Product C   890075     Tokyo\n",
      "1          2188   2023-04-11             463.70          Product A   176819    London\n",
      "2          4608   2023-04-11              80.28          Product A   340062  New York\n",
      "3          2559   2023-04-11             221.29          Product A   239145    London\n",
      "4          9482   2023-04-11             739.56          Product A   194545     Paris\n",
      "..          ...          ...                ...                ...      ...       ...\n",
      "995        2970   2023-06-10             759.62          Product B   275284    London\n",
      "996        6669   2023-06-10             941.50          Product C   987025  New York\n",
      "997        8836   2023-06-10             545.36          Product C   512842    London\n",
      "998        1440   2023-06-10             729.94          Product B   559753     Paris\n",
      "999        4759   2023-06-10             804.28          Product D   467544  New York\n",
      "\n",
      "[1000 rows x 6 columns]\n"
     ]
    }
   ],
   "source": [
    "import pandas as pd\n",
    "\n",
    "# Corrected line to read the CSV file\n",
    "data = pd.read_csv(\"rfm_data.csv\")\n",
    "pd.set_option('display.max_columns', None)\n",
    "pd.set_option('display.expand_frame_repr', False)\n",
    "\n",
    "\n",
    "# Check the first few rows of your DataFrame\n",
    "print(data.head(1000))\n",
    "\n",
    "\n"
   ]
  },
  {
   "cell_type": "code",
   "execution_count": 6,
   "id": "92b520e7-8c01-4b87-a03d-12dcf5c02f1f",
   "metadata": {},
   "outputs": [
    {
     "data": {
      "text/html": [
       "<div>\n",
       "<style scoped>\n",
       "    .dataframe tbody tr th:only-of-type {\n",
       "        vertical-align: middle;\n",
       "    }\n",
       "\n",
       "    .dataframe tbody tr th {\n",
       "        vertical-align: top;\n",
       "    }\n",
       "\n",
       "    .dataframe thead th {\n",
       "        text-align: right;\n",
       "    }\n",
       "</style>\n",
       "<table border=\"1\" class=\"dataframe\">\n",
       "  <thead>\n",
       "    <tr style=\"text-align: right;\">\n",
       "      <th></th>\n",
       "      <th>Recency</th>\n",
       "      <th>Frequency</th>\n",
       "      <th>Monetary</th>\n",
       "    </tr>\n",
       "    <tr>\n",
       "      <th>CustomerID</th>\n",
       "      <th></th>\n",
       "      <th></th>\n",
       "      <th></th>\n",
       "    </tr>\n",
       "  </thead>\n",
       "  <tbody>\n",
       "    <tr>\n",
       "      <th>1011</th>\n",
       "      <td>151</td>\n",
       "      <td>2</td>\n",
       "      <td>1129.02</td>\n",
       "    </tr>\n",
       "    <tr>\n",
       "      <th>1025</th>\n",
       "      <td>139</td>\n",
       "      <td>1</td>\n",
       "      <td>359.29</td>\n",
       "    </tr>\n",
       "    <tr>\n",
       "      <th>1029</th>\n",
       "      <td>118</td>\n",
       "      <td>1</td>\n",
       "      <td>704.99</td>\n",
       "    </tr>\n",
       "    <tr>\n",
       "      <th>1046</th>\n",
       "      <td>161</td>\n",
       "      <td>1</td>\n",
       "      <td>859.82</td>\n",
       "    </tr>\n",
       "    <tr>\n",
       "      <th>1049</th>\n",
       "      <td>131</td>\n",
       "      <td>1</td>\n",
       "      <td>225.72</td>\n",
       "    </tr>\n",
       "  </tbody>\n",
       "</table>\n",
       "</div>"
      ],
      "text/plain": [
       "            Recency  Frequency  Monetary\n",
       "CustomerID                              \n",
       "1011            151          2   1129.02\n",
       "1025            139          1    359.29\n",
       "1029            118          1    704.99\n",
       "1046            161          1    859.82\n",
       "1049            131          1    225.72"
      ]
     },
     "execution_count": 6,
     "metadata": {},
     "output_type": "execute_result"
    }
   ],
   "source": [
    "import datetime as dt\n",
    "\n",
    "# Calculate Recency, Frequency, and Monetary scores\n",
    "today = pd.to_datetime(dt.date(2023, 10, 6))  # Convert today to Timestamp\n",
    "data['PurchaseDate'] = pd.to_datetime(data['PurchaseDate'])\n",
    "\n",
    "# Calculate Recency based on the maximum purchase date\n",
    "rfm = data.groupby('CustomerID').agg({\n",
    "    'PurchaseDate': lambda x: (today - x.max()).days,\n",
    "    'OrderID': 'count',\n",
    "    'TransactionAmount': 'sum'\n",
    "})\n",
    "\n",
    "# Rename columns\n",
    "rfm.columns = ['Recency', 'Frequency', 'Monetary']\n",
    "\n",
    "# Check the RFM DataFrame\n",
    "rfm.head()\n"
   ]
  },
  {
   "cell_type": "code",
   "execution_count": null,
   "id": "ebfea008-dc61-4182-b497-7b13b219788e",
   "metadata": {},
   "outputs": [],
   "source": []
  }
 ],
 "metadata": {
  "kernelspec": {
   "display_name": "Python 3 (ipykernel)",
   "language": "python",
   "name": "python3"
  },
  "language_info": {
   "codemirror_mode": {
    "name": "ipython",
    "version": 3
   },
   "file_extension": ".py",
   "mimetype": "text/x-python",
   "name": "python",
   "nbconvert_exporter": "python",
   "pygments_lexer": "ipython3",
   "version": "3.11.5"
  }
 },
 "nbformat": 4,
 "nbformat_minor": 5
}
