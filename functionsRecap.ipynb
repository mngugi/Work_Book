{
 "cells": [
  {
   "cell_type": "code",
   "execution_count": 6,
   "id": "1b19908c-c68b-424c-8477-17121b4f2413",
   "metadata": {},
   "outputs": [],
   "source": [
    "def factorial(n):\n",
    "    if n < 2:\n",
    "        return 1 \n",
    "        f = 1\n",
    "        while n >= 2:\n",
    "            f *= n\n",
    "            n -=1\n",
    "\n",
    "        return f\n",
    "            "
   ]
  },
  {
   "cell_type": "code",
   "execution_count": 7,
   "id": "7d9f7c21-241f-4d61-ac62-77d4cf52aaf5",
   "metadata": {},
   "outputs": [
    {
     "data": {
      "text/plain": [
       "1"
      ]
     },
     "execution_count": 7,
     "metadata": {},
     "output_type": "execute_result"
    }
   ],
   "source": [
    "factorial(0)\n"
   ]
  },
  {
   "cell_type": "code",
   "execution_count": 5,
   "id": "164574e9-d8d5-4b98-af54-4974dcb36582",
   "metadata": {},
   "outputs": [],
   "source": [
    "factorial(5)"
   ]
  },
  {
   "cell_type": "code",
   "execution_count": null,
   "id": "689cb9d1-0a69-4b5d-bfe5-1f7136187073",
   "metadata": {},
   "outputs": [],
   "source": []
  }
 ],
 "metadata": {
  "kernelspec": {
   "display_name": "Python 3 (ipykernel)",
   "language": "python",
   "name": "python3"
  },
  "language_info": {
   "codemirror_mode": {
    "name": "ipython",
    "version": 3
   },
   "file_extension": ".py",
   "mimetype": "text/x-python",
   "name": "python",
   "nbconvert_exporter": "python",
   "pygments_lexer": "ipython3",
   "version": "3.11.6"
  }
 },
 "nbformat": 4,
 "nbformat_minor": 5
}
